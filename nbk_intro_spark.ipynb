{
 "cells": [
  {
   "cell_type": "markdown",
   "metadata": {},
   "source": [
    "## Etapa 0 - Preparação\n",
    "    - Bloco reservado para instalação do pyspark no ambiente.\n",
    "    - Se já tiver instalado, pode avançar esta parte!"
   ]
  },
  {
   "cell_type": "code",
   "execution_count": null,
   "metadata": {
    "vscode": {
     "languageId": "plaintext"
    }
   },
   "outputs": [],
   "source": [
    "pip install pyspark"
   ]
  },
  {
   "cell_type": "markdown",
   "metadata": {},
   "source": [
    "## Etapa 1 - Iniciar sessão do Spark"
   ]
  },
  {
   "cell_type": "code",
   "execution_count": null,
   "metadata": {
    "vscode": {
     "languageId": "plaintext"
    }
   },
   "outputs": [],
   "source": [
    "from pyspark import SparkContext\n",
    "from pyspark.sql import SparkSession\n",
    "\n",
    "spark = SparkSession \\\n",
    "  .builder \\\n",
    "  .appName(\" Execução do trabalho inyterativo\")\\\n",
    "  .getOrCreate()\n",
    "\n",
    "spark.version"
   ]
  },
  {
   "cell_type": "markdown",
   "metadata": {},
   "source": [
    "## Etapa 2 - Carregar os arquivos"
   ]
  },
  {
   "cell_type": "code",
   "execution_count": null,
   "metadata": {
    "vscode": {
     "languageId": "plaintext"
    }
   },
   "outputs": [],
   "source": [
    "df_titles = spark.read.csv('/content/drive/MyDrive/Colab Notebooks/Spark/title_basics.tsv', header=True,\n",
    "inferSchema=True, sep='\\t')\n",
    "\n",
    "df_ratings = spark.read.csv('/content/drive/MyDrive/Colab Notebooks/Spark/title_ratings.tsv', header=True,\n",
    "inferSchema=True, sep='\\t')"
   ]
  },
  {
   "cell_type": "code",
   "execution_count": null,
   "metadata": {
    "vscode": {
     "languageId": "plaintext"
    }
   },
   "outputs": [],
   "source": [
    "df_titles.printSchema()\n",
    "df_titles.show()"
   ]
  },
  {
   "cell_type": "code",
   "execution_count": null,
   "metadata": {
    "vscode": {
     "languageId": "plaintext"
    }
   },
   "outputs": [],
   "source": [
    "df_ratings.printSchema()\n",
    "df_ratings.show()"
   ]
  },
  {
   "cell_type": "markdown",
   "metadata": {},
   "source": [
    "## Etapa 3 - Levantamento dos dados"
   ]
  },
  {
   "cell_type": "code",
   "execution_count": null,
   "metadata": {
    "vscode": {
     "languageId": "plaintext"
    }
   },
   "outputs": [],
   "source": [
    "# Questão 1\n",
    "# Quantos filmes (incluindo os da televisão) foram lançados no ano de 2015?\n",
    "df_titles.filter(df_titles.titleType.isin(['movie', 'tvMovie']) & (df_titles.startYear == 2015)).count()"
   ]
  },
  {
   "cell_type": "code",
   "execution_count": null,
   "metadata": {
    "vscode": {
     "languageId": "plaintext"
    }
   },
   "outputs": [],
   "source": [
    "# Questão 2\n",
    "# Qual o gênero de títulos mais frequente?\n",
    "\n",
    "from pyspark.sql.functions import desc\n",
    "titulo_mais_frequente = df_titles.groupBy(\"genres\").count().orderBy(desc(\"count\")).first()"
   ]
  },
  {
   "cell_type": "code",
   "execution_count": null,
   "metadata": {
    "vscode": {
     "languageId": "plaintext"
    }
   },
   "outputs": [],
   "source": [
    "# Relacionamento das tabelas\n",
    "df_joined = df_titles.join(df_ratings, on='tconst', how='inner')"
   ]
  },
  {
   "cell_type": "code",
   "execution_count": null,
   "metadata": {
    "vscode": {
     "languageId": "plaintext"
    }
   },
   "outputs": [],
   "source": [
    "# Questão 3\n",
    "# Qual o gênero com a melhor nota média de títulos?\n",
    "\n",
    "# Registre o DataFrame df_joined como uma tabela temporária\n",
    "df_joined.createOrReplaceTempView(\"joined\")\n",
    "\n",
    "# Execute a consulta SQL para calcular a média das classificações por gênero\n",
    "best_genre = spark.sql(\"\"\"\n",
    "    SELECT genres, AVG(averageRating) as avg_rating\n",
    "    FROM joined\n",
    "    GROUP BY genres\n",
    "    ORDER BY avg_rating DESC\n",
    "    LIMIT 1\n",
    "\"\"\")\n",
    "\n",
    "# Exiba o gênero com a melhor nota média\n",
    "best_genre.show()"
   ]
  },
  {
   "cell_type": "code",
   "execution_count": null,
   "metadata": {
    "vscode": {
     "languageId": "plaintext"
    }
   },
   "outputs": [],
   "source": [
    "# Questão 4\n",
    "# Qual o vídeo game do gênero aventura mais bem avaliado em 2020?\n",
    "\n",
    "spark.sql(\"\"\"\n",
    "    SELECT primaryTitle, genres, averageRating\n",
    "    FROM joined\n",
    "    WHERE titleType = \"videoGame\"\n",
    "    AND startYear = \"2020\"\n",
    "    AND genres LIKE \"%Adventure%\"\n",
    "    ORDER BY averageRating DESC\n",
    "    LIMIT 1\n",
    "\"\"\").show()"
   ]
  },
  {
   "cell_type": "code",
   "execution_count": null,
   "metadata": {
    "vscode": {
     "languageId": "plaintext"
    }
   },
   "outputs": [],
   "source": [
    "# Questão 5\n",
    "# Quantos títulos de filmes diferentes existem?\n",
    "\n",
    "df_titles.select('primaryTitle').distinct().count()"
   ]
  },
  {
   "cell_type": "code",
   "execution_count": null,
   "metadata": {
    "vscode": {
     "languageId": "plaintext"
    }
   },
   "outputs": [],
   "source": [
    "# Questão 6\n",
    "# Qual a duração média dos filmes com conteúdo adulto?\n",
    "\n",
    "df_titles.filter(df_titles.isAdult == 1).describe().show()"
   ]
  },
  {
   "cell_type": "code",
   "execution_count": null,
   "metadata": {
    "vscode": {
     "languageId": "plaintext"
    }
   },
   "outputs": [],
   "source": [
    "# Questão 7\n",
    "# Quantos filmes têm o título atual (“primary”) diferente do título original?\n",
    "\n",
    "df_titles.filter(df_titles.primaryTitle != df_titles.originalTitle).count()"
   ]
  },
  {
   "cell_type": "code",
   "execution_count": null,
   "metadata": {
    "vscode": {
     "languageId": "plaintext"
    }
   },
   "outputs": [],
   "source": [
    "# Questão 8\n",
    "# Qual o filme que tem o nome mais longo?\n",
    "\n",
    "from pyspark.sql.functions import length\n",
    "\n",
    "df_titles.withColumn('titleLength', length(col('primaryTitle'))) \\\n",
    "                           .orderBy(length(col('primaryTitle')), ascending=False) \\\n",
    "                           .limit(1).show()"
   ]
  },
  {
   "cell_type": "code",
   "execution_count": null,
   "metadata": {
    "vscode": {
     "languageId": "plaintext"
    }
   },
   "outputs": [],
   "source": [
    "# Questão 9\n",
    "# Qual filme tem a maior quantidade de votos?\n",
    "\n",
    "df_ratings.orderBy('numVotes', ascending=False).limit(1).show()"
   ]
  },
  {
   "cell_type": "code",
   "execution_count": null,
   "metadata": {
    "vscode": {
     "languageId": "plaintext"
    }
   },
   "outputs": [],
   "source": [
    "# Questão 10\n",
    "# Qual é a menor nota média de um filme?\n",
    "\n",
    "df_ratings.orderBy('averageRating', ascending=True).limit(1)"
   ]
  }
 ],
 "metadata": {
  "language_info": {
   "name": "python"
  }
 },
 "nbformat": 4,
 "nbformat_minor": 2
}
