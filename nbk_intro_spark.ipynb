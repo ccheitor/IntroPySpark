{
  "cells": [
    {
      "cell_type": "markdown",
      "metadata": {
        "id": "view-in-github",
        "colab_type": "text"
      },
      "source": [
        "<a href=\"https://colab.research.google.com/github/ccheitor/IntroPySpark/blob/main/nbk_intro_spark.ipynb\" target=\"_parent\"><img src=\"https://colab.research.google.com/assets/colab-badge.svg\" alt=\"Open In Colab\"/></a>"
      ]
    },
    {
      "cell_type": "markdown",
      "metadata": {
        "id": "C5vvhClYTfPF"
      },
      "source": [
        "## Etapa 0 - Preparação\n",
        "    - Bloco reservado para instalação do pyspark no ambiente.\n",
        "    - Se já tiver instalado, pode avançar esta parte!"
      ]
    },
    {
      "cell_type": "code",
      "execution_count": 2,
      "metadata": {
        "vscode": {
          "languageId": "plaintext"
        },
        "colab": {
          "base_uri": "https://localhost:8080/"
        },
        "id": "mFIkEuHITfPH",
        "outputId": "231f7532-d626-497c-9b5a-81371759c8bc"
      },
      "outputs": [
        {
          "output_type": "stream",
          "name": "stdout",
          "text": [
            "Collecting pyspark\n",
            "  Downloading pyspark-3.5.0.tar.gz (316.9 MB)\n",
            "\u001b[2K     \u001b[90m━━━━━━━━━━━━━━━━━━━━━━━━━━━━━━━━━━━━━━━━\u001b[0m \u001b[32m316.9/316.9 MB\u001b[0m \u001b[31m4.2 MB/s\u001b[0m eta \u001b[36m0:00:00\u001b[0m\n",
            "\u001b[?25h  Preparing metadata (setup.py) ... \u001b[?25l\u001b[?25hdone\n",
            "Requirement already satisfied: py4j==0.10.9.7 in /usr/local/lib/python3.10/dist-packages (from pyspark) (0.10.9.7)\n",
            "Building wheels for collected packages: pyspark\n",
            "  Building wheel for pyspark (setup.py) ... \u001b[?25l\u001b[?25hdone\n",
            "  Created wheel for pyspark: filename=pyspark-3.5.0-py2.py3-none-any.whl size=317425344 sha256=3f1834b77b299c5435d2bae7fdfbe76e59759125bab524d5f5c820971b3fec22\n",
            "  Stored in directory: /root/.cache/pip/wheels/41/4e/10/c2cf2467f71c678cfc8a6b9ac9241e5e44a01940da8fbb17fc\n",
            "Successfully built pyspark\n",
            "Installing collected packages: pyspark\n",
            "Successfully installed pyspark-3.5.0\n"
          ]
        }
      ],
      "source": [
        "pip install pyspark"
      ]
    },
    {
      "cell_type": "code",
      "source": [
        "from google.colab import drive\n",
        "drive.mount('/content/drive')"
      ],
      "metadata": {
        "colab": {
          "base_uri": "https://localhost:8080/"
        },
        "id": "Fm_1c6MTTsig",
        "outputId": "dbd1046e-43bd-4852-8286-4064e4db1e0b"
      },
      "execution_count": 1,
      "outputs": [
        {
          "output_type": "stream",
          "name": "stdout",
          "text": [
            "Mounted at /content/drive\n"
          ]
        }
      ]
    },
    {
      "cell_type": "markdown",
      "metadata": {
        "id": "w_YVNNCOTfPI"
      },
      "source": [
        "## Etapa 1 - Iniciar sessão do Spark"
      ]
    },
    {
      "cell_type": "code",
      "execution_count": 4,
      "metadata": {
        "vscode": {
          "languageId": "plaintext"
        },
        "colab": {
          "base_uri": "https://localhost:8080/",
          "height": 35
        },
        "id": "mG_hfwccTfPI",
        "outputId": "bef73e5b-ae43-4840-c55c-651003fcb1bc"
      },
      "outputs": [
        {
          "output_type": "execute_result",
          "data": {
            "text/plain": [
              "'3.5.0'"
            ],
            "application/vnd.google.colaboratory.intrinsic+json": {
              "type": "string"
            }
          },
          "metadata": {},
          "execution_count": 4
        }
      ],
      "source": [
        "from pyspark import SparkContext\n",
        "from pyspark.sql import SparkSession\n",
        "\n",
        "spark = SparkSession \\\n",
        "  .builder \\\n",
        "  .appName(\" Execução do trabalho Interativo\")\\\n",
        "  .getOrCreate()\n",
        "\n",
        "spark.version"
      ]
    },
    {
      "cell_type": "markdown",
      "metadata": {
        "id": "tjRQf9hkTfPI"
      },
      "source": [
        "## Etapa 2 - Carregar os arquivos"
      ]
    },
    {
      "cell_type": "code",
      "execution_count": 5,
      "metadata": {
        "vscode": {
          "languageId": "plaintext"
        },
        "id": "yHRxJ3lpTfPJ"
      },
      "outputs": [],
      "source": [
        "df_titles = spark.read.csv('/content/drive/MyDrive/Colab Notebooks/Spark/title_basics.tsv', header=True,\n",
        "inferSchema=True, sep='\\t')\n",
        "\n",
        "df_ratings = spark.read.csv('/content/drive/MyDrive/Colab Notebooks/Spark/title_ratings.tsv', header=True,\n",
        "inferSchema=True, sep='\\t')"
      ]
    },
    {
      "cell_type": "code",
      "execution_count": 6,
      "metadata": {
        "vscode": {
          "languageId": "plaintext"
        },
        "colab": {
          "base_uri": "https://localhost:8080/"
        },
        "id": "rysj5MRRTfPJ",
        "outputId": "d30ede1f-e49f-4491-ed36-b408139554d8"
      },
      "outputs": [
        {
          "output_type": "stream",
          "name": "stdout",
          "text": [
            "root\n",
            " |-- tconst: string (nullable = true)\n",
            " |-- titleType: string (nullable = true)\n",
            " |-- primaryTitle: string (nullable = true)\n",
            " |-- originalTitle: string (nullable = true)\n",
            " |-- isAdult: string (nullable = true)\n",
            " |-- startYear: string (nullable = true)\n",
            " |-- endYear: string (nullable = true)\n",
            " |-- runtimeMinutes: string (nullable = true)\n",
            " |-- genres: string (nullable = true)\n",
            "\n",
            "+---------+---------+--------------------+--------------------+-------+---------+-------+--------------+--------------------+\n",
            "|   tconst|titleType|        primaryTitle|       originalTitle|isAdult|startYear|endYear|runtimeMinutes|              genres|\n",
            "+---------+---------+--------------------+--------------------+-------+---------+-------+--------------+--------------------+\n",
            "|tt0000001|    short|          Carmencita|          Carmencita|      0|     1894|     \\N|             1|   Documentary,Short|\n",
            "|tt0000002|    short|Le clown et ses c...|Le clown et ses c...|      0|     1892|     \\N|             5|     Animation,Short|\n",
            "|tt0000003|    short|      Pauvre Pierrot|      Pauvre Pierrot|      0|     1892|     \\N|             4|Animation,Comedy,...|\n",
            "|tt0000004|    short|         Un bon bock|         Un bon bock|      0|     1892|     \\N|            12|     Animation,Short|\n",
            "|tt0000005|    short|    Blacksmith Scene|    Blacksmith Scene|      0|     1893|     \\N|             1|        Comedy,Short|\n",
            "|tt0000006|    short|   Chinese Opium Den|   Chinese Opium Den|      0|     1894|     \\N|             1|               Short|\n",
            "|tt0000007|    short|Corbett and Court...|Corbett and Court...|      0|     1894|     \\N|             1|         Short,Sport|\n",
            "|tt0000008|    short|Edison Kinetoscop...|Edison Kinetoscop...|      0|     1894|     \\N|             1|   Documentary,Short|\n",
            "|tt0000009|    short|          Miss Jerry|          Miss Jerry|      0|     1894|     \\N|            40|       Romance,Short|\n",
            "|tt0000010|    short| Leaving the Factory|La sortie de l'us...|      0|     1895|     \\N|             1|   Documentary,Short|\n",
            "|tt0000011|    short|Akrobatisches Pot...|Akrobatisches Pot...|      0|     1895|     \\N|             1|   Documentary,Short|\n",
            "|tt0000012|    short|The Arrival of a ...|L'arrivée d'un tr...|      0|     1896|     \\N|             1|   Documentary,Short|\n",
            "|tt0000013|    short|The Photographica...|Le débarquement d...|      0|     1895|     \\N|             1|   Documentary,Short|\n",
            "|tt0000014|    short| The Waterer Watered|   L'arroseur arrosé|      0|     1895|     \\N|             1|        Comedy,Short|\n",
            "|tt0000015|    short| Autour d'une cabine| Autour d'une cabine|      0|     1894|     \\N|             2|     Animation,Short|\n",
            "|tt0000016|    short|Boat Leaving the ...|Barque sortant du...|      0|     1895|     \\N|             1|   Documentary,Short|\n",
            "|tt0000017|    short|Italienischer Bau...|Italienischer Bau...|      0|     1895|     \\N|             1|   Documentary,Short|\n",
            "|tt0000018|    short|Das boxende Känguruh|Das boxende Känguruh|      0|     1895|     \\N|             1|               Short|\n",
            "|tt0000019|    short|    The Clown Barber|    The Clown Barber|      0|     1898|     \\N|            \\N|        Comedy,Short|\n",
            "|tt0000020|    short|      The Derby 1895|      The Derby 1895|      0|     1895|     \\N|             1|Documentary,Short...|\n",
            "+---------+---------+--------------------+--------------------+-------+---------+-------+--------------+--------------------+\n",
            "only showing top 20 rows\n",
            "\n"
          ]
        }
      ],
      "source": [
        "df_titles.printSchema()\n",
        "df_titles.show()"
      ]
    },
    {
      "cell_type": "code",
      "execution_count": 7,
      "metadata": {
        "vscode": {
          "languageId": "plaintext"
        },
        "colab": {
          "base_uri": "https://localhost:8080/"
        },
        "id": "BVKijI_ATfPJ",
        "outputId": "6f037a09-4781-40f3-ccaa-856f925635a1"
      },
      "outputs": [
        {
          "output_type": "stream",
          "name": "stdout",
          "text": [
            "root\n",
            " |-- tconst: string (nullable = true)\n",
            " |-- averageRating: double (nullable = true)\n",
            " |-- numVotes: integer (nullable = true)\n",
            "\n",
            "+---------+-------------+--------+\n",
            "|   tconst|averageRating|numVotes|\n",
            "+---------+-------------+--------+\n",
            "|tt0000001|          5.7|    1809|\n",
            "|tt0000002|          6.0|     233|\n",
            "|tt0000003|          6.5|    1560|\n",
            "|tt0000004|          6.1|     152|\n",
            "|tt0000005|          6.2|    2383|\n",
            "|tt0000006|          5.1|     157|\n",
            "|tt0000007|          5.4|     746|\n",
            "|tt0000008|          5.5|    1965|\n",
            "|tt0000009|          5.8|     189|\n",
            "|tt0000010|          6.9|    6530|\n",
            "|tt0000011|          5.2|     323|\n",
            "|tt0000012|          7.4|   11188|\n",
            "|tt0000013|          5.8|    1726|\n",
            "|tt0000014|          7.1|    5023|\n",
            "|tt0000015|          6.2|     947|\n",
            "|tt0000016|          5.9|    1325|\n",
            "|tt0000017|          4.6|     292|\n",
            "|tt0000018|          5.3|     537|\n",
            "|tt0000019|          5.3|      28|\n",
            "|tt0000020|          5.0|     315|\n",
            "+---------+-------------+--------+\n",
            "only showing top 20 rows\n",
            "\n"
          ]
        }
      ],
      "source": [
        "df_ratings.printSchema()\n",
        "df_ratings.show()"
      ]
    },
    {
      "cell_type": "markdown",
      "metadata": {
        "id": "4PvrpDYMTfPJ"
      },
      "source": [
        "## Etapa 3 - Levantamento dos dados"
      ]
    },
    {
      "cell_type": "code",
      "execution_count": 8,
      "metadata": {
        "vscode": {
          "languageId": "plaintext"
        },
        "colab": {
          "base_uri": "https://localhost:8080/"
        },
        "id": "F-A6FuRQTfPJ",
        "outputId": "038dec41-1d82-467d-b3f6-886980e89d52"
      },
      "outputs": [
        {
          "output_type": "execute_result",
          "data": {
            "text/plain": [
              "19987"
            ]
          },
          "metadata": {},
          "execution_count": 8
        }
      ],
      "source": [
        "# Questão 1\n",
        "# Quantos filmes (incluindo os da televisão) foram lançados no ano de 2015?\n",
        "df_titles.filter(df_titles.titleType.isin(['movie', 'tvMovie']) & (df_titles.startYear == 2015)).count()"
      ]
    },
    {
      "cell_type": "code",
      "execution_count": 12,
      "metadata": {
        "vscode": {
          "languageId": "plaintext"
        },
        "colab": {
          "base_uri": "https://localhost:8080/"
        },
        "id": "yvzil2pUTfPJ",
        "outputId": "3a18b99c-b8bd-4b1b-e223-23e8d0a5943e"
      },
      "outputs": [
        {
          "output_type": "execute_result",
          "data": {
            "text/plain": [
              "Row(genres='Drama', count=880649)"
            ]
          },
          "metadata": {},
          "execution_count": 12
        }
      ],
      "source": [
        "# Questão 2\n",
        "# Qual o gênero de títulos mais frequente?\n",
        "\n",
        "from pyspark.sql.functions import desc\n",
        "df_titles.groupBy(\"genres\").count().orderBy(desc(\"count\")).first()"
      ]
    },
    {
      "cell_type": "code",
      "execution_count": 10,
      "metadata": {
        "vscode": {
          "languageId": "plaintext"
        },
        "id": "uACQ3YHoTfPK"
      },
      "outputs": [],
      "source": [
        "# Relacionamento das tabelas\n",
        "df_joined = df_titles.join(df_ratings, on='tconst', how='inner')"
      ]
    },
    {
      "cell_type": "code",
      "execution_count": 11,
      "metadata": {
        "vscode": {
          "languageId": "plaintext"
        },
        "colab": {
          "base_uri": "https://localhost:8080/"
        },
        "id": "LF2wJjOQTfPK",
        "outputId": "6f09d11c-144b-402e-f07b-111016ba5f56"
      },
      "outputs": [
        {
          "output_type": "stream",
          "name": "stdout",
          "text": [
            "+--------------------+----------+\n",
            "|              genres|avg_rating|\n",
            "+--------------------+----------+\n",
            "|Comedy,History,We...|       9.8|\n",
            "+--------------------+----------+\n",
            "\n"
          ]
        }
      ],
      "source": [
        "# Questão 3\n",
        "# Qual o gênero com a melhor nota média de títulos?\n",
        "\n",
        "# Registre o DataFrame df_joined como uma tabela temporária\n",
        "df_joined.createOrReplaceTempView(\"joined\")\n",
        "\n",
        "# Execute a consulta SQL para calcular a média das classificações por gênero\n",
        "best_genre = spark.sql(\"\"\"\n",
        "    SELECT genres, AVG(averageRating) as avg_rating\n",
        "    FROM joined\n",
        "    GROUP BY genres\n",
        "    ORDER BY avg_rating DESC\n",
        "    LIMIT 1\n",
        "\"\"\")\n",
        "\n",
        "# Exiba o gênero com a melhor nota média\n",
        "best_genre.show()"
      ]
    },
    {
      "cell_type": "code",
      "execution_count": 13,
      "metadata": {
        "vscode": {
          "languageId": "plaintext"
        },
        "colab": {
          "base_uri": "https://localhost:8080/"
        },
        "id": "BSjlC5cWTfPK",
        "outputId": "f99e32e3-cc74-474c-9517-a50b3e93c215"
      },
      "outputs": [
        {
          "output_type": "stream",
          "name": "stdout",
          "text": [
            "+---------------+--------------------+-------------+\n",
            "|   primaryTitle|              genres|averageRating|\n",
            "+---------------+--------------------+-------------+\n",
            "|Half-Life: Alyx|Action,Adventure,...|          9.5|\n",
            "+---------------+--------------------+-------------+\n",
            "\n"
          ]
        }
      ],
      "source": [
        "# Questão 4\n",
        "# Qual o vídeo game do gênero aventura mais bem avaliado em 2020?\n",
        "\n",
        "spark.sql(\"\"\"\n",
        "    SELECT primaryTitle, genres, averageRating\n",
        "    FROM joined\n",
        "    WHERE titleType = \"videoGame\"\n",
        "    AND startYear = \"2020\"\n",
        "    AND genres LIKE \"%Adventure%\"\n",
        "    ORDER BY averageRating DESC\n",
        "    LIMIT 1\n",
        "\"\"\").show()"
      ]
    },
    {
      "cell_type": "code",
      "execution_count": 14,
      "metadata": {
        "vscode": {
          "languageId": "plaintext"
        },
        "colab": {
          "base_uri": "https://localhost:8080/"
        },
        "id": "1HUU1fOxTfPK",
        "outputId": "d8e24290-fe90-401f-bd15-17cca8300858"
      },
      "outputs": [
        {
          "output_type": "execute_result",
          "data": {
            "text/plain": [
              "3931670"
            ]
          },
          "metadata": {},
          "execution_count": 14
        }
      ],
      "source": [
        "# Questão 5\n",
        "# Quantos títulos de filmes diferentes existem?\n",
        "\n",
        "df_titles.select('primaryTitle').distinct().count()"
      ]
    },
    {
      "cell_type": "code",
      "execution_count": 15,
      "metadata": {
        "vscode": {
          "languageId": "plaintext"
        },
        "colab": {
          "base_uri": "https://localhost:8080/"
        },
        "id": "v-efzlmSTfPK",
        "outputId": "829cc508-3fd4-4443-ee86-2efb024777d4"
      },
      "outputs": [
        {
          "output_type": "stream",
          "name": "stdout",
          "text": [
            "+-------+---------+---------+--------------------+--------------------+-------+------------------+------------------+-----------------+------+\n",
            "|summary|   tconst|titleType|        primaryTitle|       originalTitle|isAdult|         startYear|           endYear|   runtimeMinutes|genres|\n",
            "+-------+---------+---------+--------------------+--------------------+-------+------------------+------------------+-----------------+------+\n",
            "|  count|   250127|   250127|              250127|              250127| 250127|            250127|            250127|           250127|250127|\n",
            "|   mean|     NULL|     NULL|            Infinity|            Infinity|    1.0|2009.9655151651386|2013.4869358669835|92.79938555059914|  NULL|\n",
            "| stddev|     NULL|     NULL|                 NaN|                 NaN|    0.0| 9.116491116779232| 6.198536337845521|57.18982244754778|  NULL|\n",
            "|    min|tt0060313|    movie|\"A Different Side...|\"A Different Side...|      1|              1901|              1980|                1|Action|\n",
            "|    max|tt9916266|videoGame|öffentliche Demüt...|öffentliche Demüt...|      1|                \\N|                \\N|               \\N|    \\N|\n",
            "+-------+---------+---------+--------------------+--------------------+-------+------------------+------------------+-----------------+------+\n",
            "\n"
          ]
        }
      ],
      "source": [
        "# Questão 6\n",
        "# Qual a duração média dos filmes com conteúdo adulto?\n",
        "\n",
        "df_titles.filter(df_titles.isAdult == 1).describe().show()"
      ]
    },
    {
      "cell_type": "code",
      "execution_count": 16,
      "metadata": {
        "vscode": {
          "languageId": "plaintext"
        },
        "colab": {
          "base_uri": "https://localhost:8080/"
        },
        "id": "xo-vCuLcTfPK",
        "outputId": "e276cc4f-f2d4-461b-ced8-3ddae75226ec"
      },
      "outputs": [
        {
          "output_type": "execute_result",
          "data": {
            "text/plain": [
              "125056"
            ]
          },
          "metadata": {},
          "execution_count": 16
        }
      ],
      "source": [
        "# Questão 7\n",
        "# Quantos filmes têm o título atual (“primary”) diferente do título original?\n",
        "\n",
        "df_titles.filter(df_titles.primaryTitle != df_titles.originalTitle).count()"
      ]
    },
    {
      "cell_type": "code",
      "execution_count": 18,
      "metadata": {
        "vscode": {
          "languageId": "plaintext"
        },
        "colab": {
          "base_uri": "https://localhost:8080/"
        },
        "id": "E3KK4DmiTfPL",
        "outputId": "63ae8466-6e25-40a2-bdec-fe8f634eaf00"
      },
      "outputs": [
        {
          "output_type": "stream",
          "name": "stdout",
          "text": [
            "+----------+---------+--------------------+--------------------+-------+---------+-------+--------------+------+-----------+\n",
            "|    tconst|titleType|        primaryTitle|       originalTitle|isAdult|startYear|endYear|runtimeMinutes|genres|titleLength|\n",
            "+----------+---------+--------------------+--------------------+-------+---------+-------+--------------+------+-----------+\n",
            "|tt12985206|    video|Otoko wa chi _ ko...|Otoko wa chi _ ko...|      1|     2020|     \\N|            99| Adult|        419|\n",
            "+----------+---------+--------------------+--------------------+-------+---------+-------+--------------+------+-----------+\n",
            "\n"
          ]
        }
      ],
      "source": [
        "# Questão 8\n",
        "# Qual o filme que tem o nome mais longo?\n",
        "\n",
        "from pyspark.sql.functions import length,col\n",
        "\n",
        "df_titles.withColumn('titleLength', length(col('primaryTitle'))) \\\n",
        "                           .orderBy(length(col('primaryTitle')), ascending=False) \\\n",
        "                           .limit(1).show()"
      ]
    },
    {
      "cell_type": "code",
      "execution_count": 19,
      "metadata": {
        "vscode": {
          "languageId": "plaintext"
        },
        "colab": {
          "base_uri": "https://localhost:8080/"
        },
        "id": "qiUrN-jnTfPL",
        "outputId": "eb812c9b-91e4-4bc5-e5e9-129ed41ce767"
      },
      "outputs": [
        {
          "output_type": "stream",
          "name": "stdout",
          "text": [
            "+---------+-------------+--------+\n",
            "|   tconst|averageRating|numVotes|\n",
            "+---------+-------------+--------+\n",
            "|tt0111161|          9.3| 2449517|\n",
            "+---------+-------------+--------+\n",
            "\n"
          ]
        }
      ],
      "source": [
        "# Questão 9\n",
        "# Qual filme tem a maior quantidade de votos?\n",
        "\n",
        "df_ratings.orderBy('numVotes', ascending=False).limit(1).show()"
      ]
    },
    {
      "cell_type": "code",
      "execution_count": 20,
      "metadata": {
        "vscode": {
          "languageId": "plaintext"
        },
        "colab": {
          "base_uri": "https://localhost:8080/"
        },
        "id": "1oYNjfEhTfPL",
        "outputId": "d02db9aa-304e-46aa-9e87-816e60e816a9"
      },
      "outputs": [
        {
          "output_type": "execute_result",
          "data": {
            "text/plain": [
              "DataFrame[tconst: string, averageRating: double, numVotes: int]"
            ]
          },
          "metadata": {},
          "execution_count": 20
        }
      ],
      "source": [
        "# Questão 10\n",
        "# Qual é a menor nota média de um filme?\n",
        "\n",
        "df_ratings.orderBy('averageRating', ascending=True).limit(1)"
      ]
    }
  ],
  "metadata": {
    "language_info": {
      "name": "python"
    },
    "colab": {
      "provenance": [],
      "include_colab_link": true
    },
    "kernelspec": {
      "name": "python3",
      "display_name": "Python 3"
    }
  },
  "nbformat": 4,
  "nbformat_minor": 0
}