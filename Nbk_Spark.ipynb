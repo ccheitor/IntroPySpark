{
  "nbformat": 4,
  "nbformat_minor": 0,
  "metadata": {
    "colab": {
      "provenance": [],
      "mount_file_id": "1ewJysoMyl2ffqRic_RlslRcI0fMzJyy3",
      "authorship_tag": "ABX9TyP/o49TQL+802u+E3qsEM2Y",
      "include_colab_link": true
    },
    "kernelspec": {
      "name": "python3",
      "display_name": "Python 3"
    },
    "language_info": {
      "name": "python"
    }
  },
  "cells": [
    {
      "cell_type": "markdown",
      "metadata": {
        "id": "view-in-github",
        "colab_type": "text"
      },
      "source": [
        "<a href=\"https://colab.research.google.com/github/ccheitor/IntroPySpark/blob/main/Nbk_Spark.ipynb\" target=\"_parent\"><img src=\"https://colab.research.google.com/assets/colab-badge.svg\" alt=\"Open In Colab\"/></a>"
      ]
    },
    {
      "cell_type": "markdown",
      "source": [
        "Preparação do Ambiente"
      ],
      "metadata": {
        "id": "bBq_9UCFN5UR"
      }
    },
    {
      "cell_type": "code",
      "source": [
        "pip install pyspark & pip install wget"
      ],
      "metadata": {
        "colab": {
          "base_uri": "https://localhost:8080/"
        },
        "id": "z9Y1mg7681yE",
        "outputId": "946268ce-724a-4798-9b8b-69ef1db27421"
      },
      "execution_count": null,
      "outputs": [
        {
          "output_type": "stream",
          "name": "stdout",
          "text": [
            "Requirement already satisfied: wget in /usr/local/lib/python3.10/dist-packages (3.2)\n",
            "Requirement already satisfied: pyspark in /usr/local/lib/python3.10/dist-packages (3.5.0)\n",
            "Requirement already satisfied: py4j==0.10.9.7 in /usr/local/lib/python3.10/dist-packages (from pyspark) (0.10.9.7)\n"
          ]
        }
      ]
    },
    {
      "cell_type": "code",
      "source": [
        "from pyspark import SparkContext\n",
        "from pyspark.sql import SparkSession"
      ],
      "metadata": {
        "id": "i_v9czfqTYnF"
      },
      "execution_count": null,
      "outputs": []
    },
    {
      "cell_type": "code",
      "source": [
        "spark = SparkSession \\\n",
        "  .builder \\\n",
        "  .appName(\" Execução do trabalho inyterativo\")\\\n",
        "  .getOrCreate()\n",
        "\n",
        "spark.version"
      ],
      "metadata": {
        "colab": {
          "base_uri": "https://localhost:8080/",
          "height": 38
        },
        "id": "kjm-gybRTxSX",
        "outputId": "1822f663-5083-4828-feff-5765433da5e8"
      },
      "execution_count": null,
      "outputs": [
        {
          "output_type": "execute_result",
          "data": {
            "text/plain": [
              "'3.5.0'"
            ],
            "application/vnd.google.colaboratory.intrinsic+json": {
              "type": "string"
            }
          },
          "metadata": {},
          "execution_count": 23
        }
      ]
    },
    {
      "cell_type": "code",
      "source": [
        "df_titles = spark.read.csv('/content/drive/MyDrive/Colab Notebooks/Spark/title_basics.tsv', header=True,\n",
        "inferSchema=True, sep='\\t')\n"
      ],
      "metadata": {
        "id": "lj7W2_n8TWdU"
      },
      "execution_count": null,
      "outputs": []
    },
    {
      "cell_type": "code",
      "source": [
        "#df_titles.printSchema()\n",
        "df_titles.show()"
      ],
      "metadata": {
        "colab": {
          "base_uri": "https://localhost:8080/"
        },
        "id": "aQT13CWaaEvr",
        "outputId": "80e5d38c-eae1-4dd8-b2e2-11a926b3ece9"
      },
      "execution_count": null,
      "outputs": [
        {
          "output_type": "stream",
          "name": "stdout",
          "text": [
            "+---------+---------+--------------------+--------------------+-------+---------+-------+--------------+--------------------+\n",
            "|   tconst|titleType|        primaryTitle|       originalTitle|isAdult|startYear|endYear|runtimeMinutes|              genres|\n",
            "+---------+---------+--------------------+--------------------+-------+---------+-------+--------------+--------------------+\n",
            "|tt0000001|    short|          Carmencita|          Carmencita|      0|     1894|     \\N|             1|   Documentary,Short|\n",
            "|tt0000002|    short|Le clown et ses c...|Le clown et ses c...|      0|     1892|     \\N|             5|     Animation,Short|\n",
            "|tt0000003|    short|      Pauvre Pierrot|      Pauvre Pierrot|      0|     1892|     \\N|             4|Animation,Comedy,...|\n",
            "|tt0000004|    short|         Un bon bock|         Un bon bock|      0|     1892|     \\N|            12|     Animation,Short|\n",
            "|tt0000005|    short|    Blacksmith Scene|    Blacksmith Scene|      0|     1893|     \\N|             1|        Comedy,Short|\n",
            "|tt0000006|    short|   Chinese Opium Den|   Chinese Opium Den|      0|     1894|     \\N|             1|               Short|\n",
            "|tt0000007|    short|Corbett and Court...|Corbett and Court...|      0|     1894|     \\N|             1|         Short,Sport|\n",
            "|tt0000008|    short|Edison Kinetoscop...|Edison Kinetoscop...|      0|     1894|     \\N|             1|   Documentary,Short|\n",
            "|tt0000009|    short|          Miss Jerry|          Miss Jerry|      0|     1894|     \\N|            40|       Romance,Short|\n",
            "|tt0000010|    short| Leaving the Factory|La sortie de l'us...|      0|     1895|     \\N|             1|   Documentary,Short|\n",
            "|tt0000011|    short|Akrobatisches Pot...|Akrobatisches Pot...|      0|     1895|     \\N|             1|   Documentary,Short|\n",
            "|tt0000012|    short|The Arrival of a ...|L'arrivée d'un tr...|      0|     1896|     \\N|             1|   Documentary,Short|\n",
            "|tt0000013|    short|The Photographica...|Le débarquement d...|      0|     1895|     \\N|             1|   Documentary,Short|\n",
            "|tt0000014|    short| The Waterer Watered|   L'arroseur arrosé|      0|     1895|     \\N|             1|        Comedy,Short|\n",
            "|tt0000015|    short| Autour d'une cabine| Autour d'une cabine|      0|     1894|     \\N|             2|     Animation,Short|\n",
            "|tt0000016|    short|Boat Leaving the ...|Barque sortant du...|      0|     1895|     \\N|             1|   Documentary,Short|\n",
            "|tt0000017|    short|Italienischer Bau...|Italienischer Bau...|      0|     1895|     \\N|             1|   Documentary,Short|\n",
            "|tt0000018|    short|Das boxende Känguruh|Das boxende Känguruh|      0|     1895|     \\N|             1|               Short|\n",
            "|tt0000019|    short|    The Clown Barber|    The Clown Barber|      0|     1898|     \\N|            \\N|        Comedy,Short|\n",
            "|tt0000020|    short|      The Derby 1895|      The Derby 1895|      0|     1895|     \\N|             1|Documentary,Short...|\n",
            "+---------+---------+--------------------+--------------------+-------+---------+-------+--------------+--------------------+\n",
            "only showing top 20 rows\n",
            "\n"
          ]
        }
      ]
    },
    {
      "cell_type": "code",
      "source": [
        "df_ratings = spark.read.csv('/content/drive/MyDrive/Colab Notebooks/Spark/title_ratings.tsv', header=True,\n",
        "inferSchema=True, sep='\\t')"
      ],
      "metadata": {
        "id": "UvVKdq9AUGr2"
      },
      "execution_count": null,
      "outputs": []
    },
    {
      "cell_type": "code",
      "source": [
        "df_ratings.printSchema()"
      ],
      "metadata": {
        "colab": {
          "base_uri": "https://localhost:8080/"
        },
        "id": "lN330Rb0UJdM",
        "outputId": "9dfe7d1c-e46e-44f2-e200-d512c7434cae"
      },
      "execution_count": null,
      "outputs": [
        {
          "output_type": "stream",
          "name": "stdout",
          "text": [
            "root\n",
            " |-- tconst: string (nullable = true)\n",
            " |-- averageRating: double (nullable = true)\n",
            " |-- numVotes: integer (nullable = true)\n",
            "\n"
          ]
        }
      ]
    },
    {
      "cell_type": "code",
      "source": [
        "df_ratings.show()"
      ],
      "metadata": {
        "colab": {
          "base_uri": "https://localhost:8080/"
        },
        "id": "o59P4DzBa31R",
        "outputId": "dd970d0d-531e-47f2-b8ab-cbf03da3f2a6"
      },
      "execution_count": null,
      "outputs": [
        {
          "output_type": "stream",
          "name": "stdout",
          "text": [
            "+---------+-------------+--------+\n",
            "|   tconst|averageRating|numVotes|\n",
            "+---------+-------------+--------+\n",
            "|tt0000001|          5.7|    1809|\n",
            "|tt0000002|          6.0|     233|\n",
            "|tt0000003|          6.5|    1560|\n",
            "|tt0000004|          6.1|     152|\n",
            "|tt0000005|          6.2|    2383|\n",
            "|tt0000006|          5.1|     157|\n",
            "|tt0000007|          5.4|     746|\n",
            "|tt0000008|          5.5|    1965|\n",
            "|tt0000009|          5.8|     189|\n",
            "|tt0000010|          6.9|    6530|\n",
            "|tt0000011|          5.2|     323|\n",
            "|tt0000012|          7.4|   11188|\n",
            "|tt0000013|          5.8|    1726|\n",
            "|tt0000014|          7.1|    5023|\n",
            "|tt0000015|          6.2|     947|\n",
            "|tt0000016|          5.9|    1325|\n",
            "|tt0000017|          4.6|     292|\n",
            "|tt0000018|          5.3|     537|\n",
            "|tt0000019|          5.3|      28|\n",
            "|tt0000020|          5.0|     315|\n",
            "+---------+-------------+--------+\n",
            "only showing top 20 rows\n",
            "\n"
          ]
        }
      ]
    },
    {
      "cell_type": "code",
      "source": [
        "# Quantos filmes (incluindo os da televisão) foram lançados no ano de 2015?\n",
        "#df_titles[df_titles.startYear.isin(\"2015\")].show()\n",
        "df_titles.filter(df_titles.startYear ==\"2015\").distinct().count()"
      ],
      "metadata": {
        "colab": {
          "base_uri": "https://localhost:8080/"
        },
        "id": "HgTUAPOecLjW",
        "outputId": "900567b5-3f4a-4639-bf9f-2ecbfa44c561"
      },
      "execution_count": null,
      "outputs": [
        {
          "output_type": "execute_result",
          "data": {
            "text/plain": [
              "358054"
            ]
          },
          "metadata": {},
          "execution_count": 29
        }
      ]
    },
    {
      "cell_type": "code",
      "source": [
        "df_titles.filter(df_titles.startYear ==\"2015\").count()"
      ],
      "metadata": {
        "colab": {
          "base_uri": "https://localhost:8080/"
        },
        "id": "BC1eO2uRnTnU",
        "outputId": "c43f7af9-66a8-42f0-9009-a37e9ebdac1d"
      },
      "execution_count": null,
      "outputs": [
        {
          "output_type": "execute_result",
          "data": {
            "text/plain": [
              "358054"
            ]
          },
          "metadata": {},
          "execution_count": 30
        }
      ]
    },
    {
      "cell_type": "code",
      "source": [
        "df_filtrado =df_titles.select(\"tconst\",\"startYear\").filter(df_titles.startYear ==\"2015\")"
      ],
      "metadata": {
        "id": "bTK7TngBntmM"
      },
      "execution_count": null,
      "outputs": []
    },
    {
      "cell_type": "code",
      "source": [
        "df_filtrado.distinct().count()"
      ],
      "metadata": {
        "colab": {
          "base_uri": "https://localhost:8080/"
        },
        "id": "NHMafVyfoH9_",
        "outputId": "c5b1855a-d643-4066-ab41-17fbb899a8b6"
      },
      "execution_count": null,
      "outputs": [
        {
          "output_type": "execute_result",
          "data": {
            "text/plain": [
              "358054"
            ]
          },
          "metadata": {},
          "execution_count": 32
        }
      ]
    },
    {
      "cell_type": "code",
      "source": [
        "df_joined = df_titles.join(df_ratings, on='tconst', how='inner')"
      ],
      "metadata": {
        "id": "ba1lI3_XC1dk"
      },
      "execution_count": null,
      "outputs": []
    },
    {
      "cell_type": "code",
      "source": [
        "df_joined.show()"
      ],
      "metadata": {
        "colab": {
          "base_uri": "https://localhost:8080/"
        },
        "id": "PZsvF8ErC3ZQ",
        "outputId": "76f12a10-b2a8-4610-e514-067bd234a265"
      },
      "execution_count": null,
      "outputs": [
        {
          "output_type": "stream",
          "name": "stdout",
          "text": [
            "+---------+---------+--------------------+--------------------+-------+---------+-------+--------------+--------------------+-------------+--------+\n",
            "|   tconst|titleType|        primaryTitle|       originalTitle|isAdult|startYear|endYear|runtimeMinutes|              genres|averageRating|numVotes|\n",
            "+---------+---------+--------------------+--------------------+-------+---------+-------+--------------+--------------------+-------------+--------+\n",
            "|tt0000008|    short|Edison Kinetoscop...|Edison Kinetoscop...|      0|     1894|     \\N|             1|   Documentary,Short|          5.5|    1965|\n",
            "|tt0000015|    short| Autour d'une cabine| Autour d'une cabine|      0|     1894|     \\N|             2|     Animation,Short|          6.2|     947|\n",
            "|tt0000019|    short|    The Clown Barber|    The Clown Barber|      0|     1898|     \\N|            \\N|        Comedy,Short|          5.3|      28|\n",
            "|tt0000051|    short|The Bohemian Enca...|Campement de bohé...|      0|     1896|     \\N|            \\N|   Documentary,Short|          3.7|      31|\n",
            "|tt0000058|    short|Cortège de tzar a...|Cortège de tzar a...|      0|     1896|     \\N|            \\N|   Documentary,Short|          4.3|      28|\n",
            "|tt0000065|    short|Dessinateur: Rein...|Dessinateur: Rein...|      0|     1896|     \\N|            \\N|               Short|          3.4|      24|\n",
            "|tt0000095|    short|The Mysterious Paper|    Le papier protée|      0|     1896|     \\N|            \\N|               Short|          4.8|      31|\n",
            "|tt0000108|    short|Rip Leaving Sleep...|Rip Leaving Sleep...|      0|     1896|     \\N|             1|         Drama,Short|          4.4|     509|\n",
            "|tt0000142|    short|Buffalo Bill and ...|Buffalo Bill and ...|      0|     1897|     \\N|            \\N|          News,Short|          4.7|      28|\n",
            "|tt0000145|    short|           En classe|           En classe|      0|     1897|     \\N|            \\N|        Comedy,Short|          3.8|      12|\n",
            "|tt0000146|    short|Le cocher de fiac...|Le cocher de fiac...|      0|     1897|     \\N|            \\N|        Comedy,Short|          5.1|      25|\n",
            "|tt0000169|    short|Slagsmål i gamla ...|Slagsmål i gamla ...|      0|     1897|     \\N|             1|               Short|          3.9|      38|\n",
            "|tt0000172|    short|     The X-Ray Fiend|     The X-Ray Fiend|      0|     1897|     \\N|             1| Comedy,Horror,Short|          6.1|     796|\n",
            "|tt0000174|    short|Výstavní párkar a...|Výstavní párkar a...|      0|     1898|     \\N|             1|        Comedy,Short|          4.7|     117|\n",
            "|tt0000175|    short|A Sea Cave Near L...|A Sea Cave Near L...|      0|     1896|     \\N|             1|   Documentary,Short|          5.0|     196|\n",
            "|tt0000186|    short|   Le cuirassé Maine|   Le cuirassé Maine|      0|     1898|     \\N|            \\N|           Short,War|          4.2|      21|\n",
            "|tt0000188|    short|        The Deserter|        The Deserter|      0|     1898|     \\N|            \\N|         Drama,Short|          4.0|      11|\n",
            "|tt0000214|    short|Tearing Down the ...|Tearing Down the ...|      0|     1898|     \\N|            \\N|           Short,War|          4.5|      87|\n",
            "|tt0000242|    short|The Sign of the C...|Le diable au couvent|      0|     1899|     \\N|             3|Fantasy,Horror,Short|          6.4|    1074|\n",
            "|tt0000264|    short|Summoning the Spi...|   Évocation spirite|      0|     1899|     \\N|             1|Fantasy,Horror,Short|          5.7|     404|\n",
            "+---------+---------+--------------------+--------------------+-------+---------+-------+--------------+--------------------+-------------+--------+\n",
            "only showing top 20 rows\n",
            "\n"
          ]
        }
      ]
    },
    {
      "cell_type": "code",
      "source": [
        "df_joined.filter(df_joined.startYear==\"2015\").distinct().count()"
      ],
      "metadata": {
        "colab": {
          "base_uri": "https://localhost:8080/"
        },
        "id": "tuAuORZ0DPwf",
        "outputId": "8044dcfa-017a-41de-dbc2-d1129fd407bb"
      },
      "execution_count": null,
      "outputs": [
        {
          "output_type": "execute_result",
          "data": {
            "text/plain": [
              "48810"
            ]
          },
          "metadata": {},
          "execution_count": 41
        }
      ]
    },
    {
      "cell_type": "code",
      "source": [
        "df_titles.select('primaryTitle').distinct().count()"
      ],
      "metadata": {
        "colab": {
          "base_uri": "https://localhost:8080/"
        },
        "id": "tRwPf3sgFxHV",
        "outputId": "b493777e-c2ce-4047-f0df-f7add95159f8"
      },
      "execution_count": null,
      "outputs": [
        {
          "output_type": "execute_result",
          "data": {
            "text/plain": [
              "3931670"
            ]
          },
          "metadata": {},
          "execution_count": 42
        }
      ]
    },
    {
      "cell_type": "code",
      "source": [
        "df_titles.filter((df_titles.titleType == 'movie') & (df_titles.startYear == 2015)).count()"
      ],
      "metadata": {
        "colab": {
          "base_uri": "https://localhost:8080/"
        },
        "id": "a63uSyz7IS0V",
        "outputId": "43f1997b-85be-47a9-db98-d483a6d58633"
      },
      "execution_count": null,
      "outputs": [
        {
          "output_type": "execute_result",
          "data": {
            "text/plain": [
              "16429"
            ]
          },
          "metadata": {},
          "execution_count": 44
        }
      ]
    },
    {
      "cell_type": "code",
      "source": [
        "# Filtra os registros para incluir apenas filmes com conteúdo adulto (isAdult == 1)\n",
        "df_adult_movies = df_titles.filter(df_titles.isAdult == 1)\n",
        "\n",
        "# Calcula as estatísticas descritivas, incluindo a média da coluna runtimeMinutes\n",
        "avg_runtime = df_adult_movies.describe(['runtimeMinutes']).filter(\"summary == 'mean'\").select('runtimeMinutes').collect()[0][0]\n",
        "\n",
        "print(\"A duração média dos filmes com conteúdo adulto é:\", avg_runtime, \"minutos.\")\n"
      ],
      "metadata": {
        "colab": {
          "base_uri": "https://localhost:8080/"
        },
        "id": "zggLIsVMJQts",
        "outputId": "0beb325b-3b7b-49b6-a303-1a3f1ef85d97"
      },
      "execution_count": null,
      "outputs": [
        {
          "output_type": "stream",
          "name": "stdout",
          "text": [
            "A duração média dos filmes com conteúdo adulto é: 92.79938555059914 minutos.\n"
          ]
        }
      ]
    },
    {
      "cell_type": "code",
      "source": [
        "\n",
        "# Filtra os registros para incluir apenas os filmes com títulos diferentes\n",
        "df_diff_titles = df_titles.filter(df_titles.primaryTitle != df_titles.originalTitle)\n",
        "\n",
        "# Conta o número de filmes com títulos diferentes\n",
        "count_diff_titles = df_diff_titles.count()\n",
        "\n",
        "print(\"O número de filmes com título atual diferente do título original é:\", count_diff_titles)\n"
      ],
      "metadata": {
        "colab": {
          "base_uri": "https://localhost:8080/"
        },
        "id": "GQsa_URmJm8P",
        "outputId": "4d60e780-763f-4437-8e74-37e75785c9c8"
      },
      "execution_count": null,
      "outputs": [
        {
          "output_type": "stream",
          "name": "stdout",
          "text": [
            "O número de filmes com título atual diferente do título original é: 125056\n"
          ]
        }
      ]
    },
    {
      "cell_type": "code",
      "source": [
        "from pyspark.sql.functions import length,col\n",
        "\n",
        "# Adicione uma nova coluna 'titleLength' para armazenar o comprimento do título\n",
        "df_titles_with_length = df_titles.withColumn('titleLength', length(col('primaryTitle')))\n",
        "\n",
        "# Ordene o DataFrame em ordem decrescente de comprimento do título\n",
        "df_longest_title = df_titles_with_length.orderBy('titleLength', ascending=False).limit(1)\n",
        "\n",
        "# Exiba o filme com o nome mais longo\n",
        "df_longest_title.show()\n"
      ],
      "metadata": {
        "colab": {
          "base_uri": "https://localhost:8080/"
        },
        "id": "vzOCWYA8J2DP",
        "outputId": "da5635de-116d-4da1-e123-89f63fd6f99b"
      },
      "execution_count": null,
      "outputs": [
        {
          "output_type": "stream",
          "name": "stdout",
          "text": [
            "+----------+---------+--------------------+--------------------+-------+---------+-------+--------------+------+-----------+\n",
            "|    tconst|titleType|        primaryTitle|       originalTitle|isAdult|startYear|endYear|runtimeMinutes|genres|titleLength|\n",
            "+----------+---------+--------------------+--------------------+-------+---------+-------+--------------+------+-----------+\n",
            "|tt12985206|    video|Otoko wa chi _ ko...|Otoko wa chi _ ko...|      1|     2020|     \\N|            99| Adult|        419|\n",
            "+----------+---------+--------------------+--------------------+-------+---------+-------+--------------+------+-----------+\n",
            "\n"
          ]
        }
      ]
    },
    {
      "cell_type": "code",
      "source": [
        "# Ordene o DataFrame em ordem decrescente pela quantidade de votos e pegue o primeiro registro\n",
        "df_most_voted = df_ratings.orderBy('numVotes', ascending=False).limit(1)\n",
        "\n",
        "# Exiba o filme com a maior quantidade de votos\n",
        "df_most_voted.show()\n"
      ],
      "metadata": {
        "colab": {
          "base_uri": "https://localhost:8080/"
        },
        "id": "HKtNoP-wKeuq",
        "outputId": "0583f0b9-d794-41bc-8f1a-c8e292f1aba9"
      },
      "execution_count": null,
      "outputs": [
        {
          "output_type": "stream",
          "name": "stdout",
          "text": [
            "+---------+-------------+--------+\n",
            "|   tconst|averageRating|numVotes|\n",
            "+---------+-------------+--------+\n",
            "|tt0111161|          9.3| 2449517|\n",
            "+---------+-------------+--------+\n",
            "\n"
          ]
        }
      ]
    },
    {
      "cell_type": "code",
      "source": [
        "# Ordene o DataFrame em ordem decrescente pela quantidade de votos e pegue o primeiro registro\n",
        "df_most_voted = df_ratings.orderBy('averageRating', ascending=True).limit(1)\n",
        "\n",
        "# Exiba o filme com a maior quantidade de votos\n",
        "df_most_voted.show()\n"
      ],
      "metadata": {
        "colab": {
          "base_uri": "https://localhost:8080/"
        },
        "id": "gO1vj9Z0LdXq",
        "outputId": "2125dc95-2376-4879-aefd-68d49ddbe5dc"
      },
      "execution_count": null,
      "outputs": [
        {
          "output_type": "stream",
          "name": "stdout",
          "text": [
            "+---------+-------------+--------+\n",
            "|   tconst|averageRating|numVotes|\n",
            "+---------+-------------+--------+\n",
            "|tt1794292|          1.0|      82|\n",
            "+---------+-------------+--------+\n",
            "\n"
          ]
        }
      ]
    }
  ]
}